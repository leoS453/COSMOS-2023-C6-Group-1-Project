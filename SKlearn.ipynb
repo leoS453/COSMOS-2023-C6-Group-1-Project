{
 "cells": [
  {
   "cell_type": "code",
   "execution_count": null,
   "id": "6fd094a7",
   "metadata": {},
   "outputs": [
    {
     "name": "stderr",
     "output_type": "stream",
     "text": [
      "/Users/leosong/anaconda3/lib/python3.10/site-packages/tqdm/auto.py:22: TqdmWarning: IProgress not found. Please update jupyter and ipywidgets. See https://ipywidgets.readthedocs.io/en/stable/user_install.html\n",
      "  from .autonotebook import tqdm as notebook_tqdm\n"
     ]
    }
   ],
   "source": [
    "import pandas as pd\n",
    "\n",
    "import numpy as np\n",
    "import matplotlib.pyplot as plt\n",
    "\n",
    "from sklearn.linear_model import LogisticRegression\n",
    "from sklearn.model_selection import train_test_split\n",
    "\n",
    "from sklearn.ensemble import RandomForestRegressor\n",
    "\n",
    "from sklearn import utils\n",
    "\n",
    "\n"
   ]
  },
  {
   "cell_type": "code",
   "execution_count": 2,
   "id": "ce693582",
   "metadata": {},
   "outputs": [],
   "source": [
    "#Load Data\n",
    "\n",
    "EMSLoad2020 = pd.read_csv(\"/HistoricalEMSHourlyLoad-2020.csv\")\n",
    "EMSLoad2021 = pd.read_csv(\"/HistoricalEMSHourlyLoad-2021.csv\")\n",
    "EMSLoad2022 = pd.read_csv(\"/HistoricalEMSHourlyLoad-2022.csv\")\n",
    "\n",
    "WeatherData = pd.read_csv(\"/sandiego-20200101-20221231.csv\")"
   ]
  },
  {
   "cell_type": "code",
   "execution_count": 3,
   "id": "b8ba2964",
   "metadata": {
    "scrolled": true
   },
   "outputs": [],
   "source": [
    "#Combine EMS Loads\n",
    "EMSLoads = pd.concat([EMSLoad2020, EMSLoad2021, EMSLoad2022])\n",
    "EMSLoads.drop(EMSLoads.columns.difference(['Date','HR', 'SDGE']), axis =1, inplace=True)\n",
    "EMSLoads = EMSLoads.reset_index(drop=True)"
   ]
  },
  {
   "cell_type": "code",
   "execution_count": 4,
   "id": "978730b8",
   "metadata": {},
   "outputs": [],
   "source": [
    "#number of hours to include\n",
    "dataPointsCount = 26304"
   ]
  },
  {
   "cell_type": "code",
   "execution_count": 5,
   "id": "f525c713",
   "metadata": {},
   "outputs": [],
   "source": [
    "#transfers the features to a dataframe sutiable for the code\n",
    "features = []\n",
    "\n",
    "for i in range(1,dataPointsCount):\n",
    "\n",
    "    temp = []\n",
    "\n",
    "    k= True\n",
    "    for j in WeatherData.columns:\n",
    "        if k:\n",
    "            k=False\n",
    "        else:\n",
    "            temp.append(WeatherData[j][i-1])   \n",
    "    \n",
    "    temp.append(EMSLoads['HR'][i])\n",
    "    \n",
    "    day = int(i/24)\n",
    "    temp.append(day)\n",
    "\n",
    "    features.append(temp)"
   ]
  },
  {
   "cell_type": "code",
   "execution_count": 6,
   "id": "979e05dd",
   "metadata": {},
   "outputs": [],
   "source": [
    "#tranfers the dependant variables to a form suitable for the code\n",
    "\n",
    "demand = []\n",
    "\n",
    "for i in range(1,dataPointsCount):\n",
    "\n",
    "    demand.append(int(EMSLoads['SDGE'][i]))\n",
    "    \n",
    "demandDf = pd.DataFrame(demand)"
   ]
  },
  {
   "cell_type": "code",
   "execution_count": 7,
   "id": "59a62cd3",
   "metadata": {},
   "outputs": [],
   "source": [
    "#splits the data into test and train\n",
    "X_train,X_test,y_train,y_test=train_test_split(features,demandDf,test_size=0.4,random_state=100)"
   ]
  },
  {
   "cell_type": "code",
   "execution_count": null,
   "id": "013c15be",
   "metadata": {},
   "outputs": [
    {
     "name": "stderr",
     "output_type": "stream",
     "text": [
      "/Users/leosong/anaconda3/lib/python3.10/site-packages/sklearn/utils/validation.py:1143: DataConversionWarning: A column-vector y was passed when a 1d array was expected. Please change the shape of y to (n_samples, ), for example using ravel().\n",
      "  y = column_or_1d(y, warn=True)\n"
     ]
    }
   ],
   "source": [
    "#trains the linear model\n",
    "logreg= LogisticRegression(max_iter=15000)\n",
    "logreg.fit(X_train,y_train)"
   ]
  },
  {
   "cell_type": "code",
   "execution_count": null,
   "id": "a1649f99",
   "metadata": {},
   "outputs": [],
   "source": [
    "#creates a prediction based on the test model\n",
    "y_predLr=logreg.predict(X_test)"
   ]
  },
  {
   "cell_type": "code",
   "execution_count": null,
   "id": "f5b68615",
   "metadata": {},
   "outputs": [],
   "source": [
    "#calculates the MAPE\n",
    "sampleSizeCount = 5000\n",
    "\n",
    "y=y_test.values.tolist()\n",
    "accuracyLr=[]\n",
    "for i in range (sampleSizeCount):\n",
    "    accuracyLr.append(abs(y_predLr[i]-y[i])/y[i])\n",
    "\n",
    "numLr = 0\n",
    "for i in range(sampleSizeCount):\n",
    "   numLr+=abs(accuracyLr[i][0])\n",
    "print(numLr/sampleSizeCount)"
   ]
  },
  {
   "cell_type": "code",
   "execution_count": null,
   "id": "683d4ce8",
   "metadata": {},
   "outputs": [],
   "source": [
    "#creates a trains the random forest regressor\n",
    "model_rf = RandomForestRegressor(n_estimators=3000)\n",
    "model_rf.fit(X_train, y_train)\n"
   ]
  },
  {
   "cell_type": "code",
   "execution_count": null,
   "id": "98330819",
   "metadata": {},
   "outputs": [],
   "source": [
    "#gets a prediction based on the test data\n",
    "pred_test_rf = model_rf.predict(X_test)"
   ]
  },
  {
   "cell_type": "code",
   "execution_count": null,
   "id": "a71ab1aa",
   "metadata": {},
   "outputs": [],
   "source": [
    "#calculates the mape\n",
    "sampleSizeCount = 5000"
   ]
  },
  {
   "cell_type": "code",
   "execution_count": null,
   "id": "50594f41",
   "metadata": {},
   "outputs": [],
   "source": [
    "y=y_test.values.tolist()\n",
    "accuracyRf=[]\n",
    "for i in range (sampleSizeCount):\n",
    "    accuracyRf.append(abs(pred_test_rf[i]-y[i])/y[i])\n"
   ]
  },
  {
   "cell_type": "code",
   "execution_count": null,
   "id": "33ce0ddb",
   "metadata": {},
   "outputs": [],
   "source": [
    "numRf = 0\n",
    "for i in range(sampleSizeCount):\n",
    "   numRf+=abs(accuracyRf[i][0])\n",
    "print(numRf/sampleSizeCount)"
   ]
  }
 ],
 "metadata": {
  "kernelspec": {
   "display_name": "Python 3 (ipykernel)",
   "language": "python",
   "name": "python3"
  },
  "language_info": {
   "codemirror_mode": {
    "name": "ipython",
    "version": 3
   },
   "file_extension": ".py",
   "mimetype": "text/x-python",
   "name": "python",
   "nbconvert_exporter": "python",
   "pygments_lexer": "ipython3",
   "version": "3.10.9"
  }
 },
 "nbformat": 4,
 "nbformat_minor": 5
}
